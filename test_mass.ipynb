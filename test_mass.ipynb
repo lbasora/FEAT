{
 "cells": [
  {
   "cell_type": "code",
   "execution_count": 1,
   "id": "6a055e03-793a-404d-9c0f-8ecc675fd861",
   "metadata": {},
   "outputs": [],
   "source": [
    "%load_ext lab_black\n",
    "%matplotlib inline"
   ]
  },
  {
   "cell_type": "code",
   "execution_count": 2,
   "id": "e76e2616-2816-4fed-8bb9-630535e0f42a",
   "metadata": {},
   "outputs": [],
   "source": [
    "import matplotlib.pyplot as plt\n",
    "import numpy as np\n",
    "import pandas as pd\n",
    "from feat import FuelEstimator, MassEstimator\n",
    "from openap import aero"
   ]
  },
  {
   "cell_type": "code",
   "execution_count": 3,
   "id": "2f98f892-6d53-45ea-837e-acfe8cb34c70",
   "metadata": {},
   "outputs": [],
   "source": [
    "ac_type = \"A320\"\n",
    "flight_profiles = pd.read_pickle(\"fp.pkl\")\n",
    "me = MassEstimator(ac_type=ac_type)\n",
    "mass = me.reference_mass"
   ]
  },
  {
   "cell_type": "code",
   "execution_count": 5,
   "id": "4000dc93-51a6-4be3-ad16-ac3994bcbb29",
   "metadata": {},
   "outputs": [
    {
     "data": {
      "text/plain": [
       "(2476.8965578418165, 67380.0, 64903.103442158186, 123.84482789209083)"
      ]
     },
     "execution_count": 5,
     "metadata": {},
     "output_type": "execute_result"
    }
   ],
   "source": [
    "fe = FuelEstimator(ac_type=ac_type, mass=mass)\n",
    "f_trip = fe.compute_fuel_per_flight(flight_profiles.query(\"id==0\")).fc.item()\n",
    "landing_mass = mass - f_trip\n",
    "f_cont = f_trip * 0.05\n",
    "f_trip, mass, landing_mass, f_cont"
   ]
  },
  {
   "cell_type": "code",
   "execution_count": 5,
   "id": "3b67a55d-ec29-4d50-b1b5-45501177772b",
   "metadata": {},
   "outputs": [
    {
     "data": {
      "text/html": [
       "<div>\n",
       "<style scoped>\n",
       "    .dataframe tbody tr th:only-of-type {\n",
       "        vertical-align: middle;\n",
       "    }\n",
       "\n",
       "    .dataframe tbody tr th {\n",
       "        vertical-align: top;\n",
       "    }\n",
       "\n",
       "    .dataframe thead th {\n",
       "        text-align: right;\n",
       "    }\n",
       "</style>\n",
       "<table border=\"1\" class=\"dataframe\">\n",
       "  <thead>\n",
       "    <tr style=\"text-align: right;\">\n",
       "      <th></th>\n",
       "      <th>t</th>\n",
       "      <th>h</th>\n",
       "      <th>s</th>\n",
       "      <th>v</th>\n",
       "      <th>vs</th>\n",
       "      <th>alt_cr</th>\n",
       "      <th>mach_cr</th>\n",
       "      <th>id</th>\n",
       "      <th>fp</th>\n",
       "    </tr>\n",
       "  </thead>\n",
       "  <tbody>\n",
       "    <tr>\n",
       "      <th>0</th>\n",
       "      <td>0.0</td>\n",
       "      <td>457.2</td>\n",
       "      <td>0.000000</td>\n",
       "      <td>254.561052</td>\n",
       "      <td>0.0</td>\n",
       "      <td>1500</td>\n",
       "      <td>0.75195</td>\n",
       "      <td>0</td>\n",
       "      <td>CR</td>\n",
       "    </tr>\n",
       "    <tr>\n",
       "      <th>1</th>\n",
       "      <td>1800.0</td>\n",
       "      <td>457.2</td>\n",
       "      <td>458209.893362</td>\n",
       "      <td>254.561052</td>\n",
       "      <td>0.0</td>\n",
       "      <td>1500</td>\n",
       "      <td>0.75195</td>\n",
       "      <td>0</td>\n",
       "      <td>CR</td>\n",
       "    </tr>\n",
       "  </tbody>\n",
       "</table>\n",
       "</div>"
      ],
      "text/plain": [
       "        t      h              s           v   vs  alt_cr  mach_cr  id  fp\n",
       "0     0.0  457.2       0.000000  254.561052  0.0    1500  0.75195   0  CR\n",
       "1  1800.0  457.2  458209.893362  254.561052  0.0    1500  0.75195   0  CR"
      ]
     },
     "execution_count": 5,
     "metadata": {},
     "output_type": "execute_result"
    }
   ],
   "source": [
    "from openap.traj import Generator\n",
    "\n",
    "trajgen = Generator(ac=ac_type, eng=None)\n",
    "cruise = trajgen.cruise(dt=30 * 60, alt_cr=1500, random=True)\n",
    "cruise = dict(\n",
    "    (key, value[:2] if isinstance(value, np.ndarray) else value)\n",
    "    for key, value in cruise.items()\n",
    ")\n",
    "cruise = pd.DataFrame.from_dict(cruise).assign(id=0, fp=\"CR\")\n",
    "cruise"
   ]
  },
  {
   "cell_type": "code",
   "execution_count": 20,
   "id": "b433a56e-2b7c-4c4f-aaa2-b4985b9acdb0",
   "metadata": {},
   "outputs": [
    {
     "data": {
      "text/plain": [
       "3154.213437335996"
      ]
     },
     "execution_count": 20,
     "metadata": {},
     "output_type": "execute_result"
    }
   ],
   "source": [
    "from feat import FlightProfileGenerator\n",
    "\n",
    "fpg = FlightProfileGenerator(ac_type=ac_type)\n",
    "cruise = fpg.gen_cruise_for_fuel_reserve()\n",
    "\n",
    "fe = FuelEstimator(ac_type=ac_type, mass=landing_mass)\n",
    "f_reserve = fe.compute_fuel_per_flight(cruise).fc.item()\n",
    "f_reserve"
   ]
  },
  {
   "cell_type": "code",
   "execution_count": 18,
   "id": "0387db89-a543-482f-854f-0a2c593aacaf",
   "metadata": {},
   "outputs": [
    {
     "data": {
      "text/plain": [
       "3104.4337397161053"
      ]
     },
     "execution_count": 18,
     "metadata": {},
     "output_type": "execute_result"
    }
   ],
   "source": [
    "from feat.fuel import compute_fuel_reserve\n",
    "\n",
    "compute_fuel_reserve(ac_type, eng_type=None, mass=landing_mass)"
   ]
  },
  {
   "cell_type": "code",
   "execution_count": 132,
   "id": "9eb5d0b4-72a2-4c83-b78d-3f76087645c2",
   "metadata": {},
   "outputs": [
    {
     "name": "stdout",
     "output_type": "stream",
     "text": [
      "350.41633690488726\n"
     ]
    },
    {
     "data": {
      "image/png": "[encoded data removed]",
      "text/plain": [
       "<Figure size 1080x504 with 1 Axes>"
      ]
     },
     "metadata": {
      "needs_background": "light"
     },
     "output_type": "display_data"
    }
   ],
   "source": [
    "from openap import aero\n",
    "from openap.traj import Generator\n",
    "\n",
    "trajgen = Generator(ac=ac_type, eng=None)\n",
    "traj_alt = trajgen.complete(dt=10, range_cr=0, random=True)\n",
    "traj_alt = pd.DataFrame.from_dict(traj_alt).assign(id=0)\n",
    "traj_alt\n",
    "print(traj_alt.s.iloc[-1] / aero.nm)\n",
    "\n",
    "fig, ax = plt.subplots(figsize=(15, 7))\n",
    "for (_, fp) in traj_alt.assign(h=traj_alt.h / aero.ft, s=traj_alt.s / 1e3).groupby(\n",
    "    \"id\"\n",
    "):\n",
    "    fp.plot(x=\"s\", y=\"h\", ax=ax, legend=False)"
   ]
  },
  {
   "cell_type": "code",
   "execution_count": 8,
   "id": "70505606-511c-4606-87c1-8d053c061942",
   "metadata": {},
   "outputs": [
    {
     "data": {
      "text/plain": [
       "1401.0258455479648"
      ]
     },
     "execution_count": 8,
     "metadata": {},
     "output_type": "execute_result"
    }
   ],
   "source": [
    "from feat import FlightProfileGenerator\n",
    "\n",
    "fpg = FlightProfileGenerator(ac_type=ac_type)\n",
    "traj_alt = fpg.gen_flight_for_alternate_fuel()\n",
    "\n",
    "fe = FuelEstimator(ac_type=ac_type, mass=landing_mass)\n",
    "f_alt = fe.compute_fuel_per_flight(traj_alt).fc.item()\n",
    "f_alt"
   ]
  },
  {
   "cell_type": "code",
   "execution_count": 9,
   "id": "ba05248f-1c95-428f-8e57-2c4a187212dc",
   "metadata": {},
   "outputs": [
    {
     "data": {
      "text/plain": [
       "(541.5264915146265, 320.79344032601125)"
      ]
     },
     "execution_count": 9,
     "metadata": {},
     "output_type": "execute_result"
    }
   ],
   "source": [
    "flight_profiles.query(\"id==0\").s.iloc[-1] / aero.nm, traj_alt.s.iloc[-1] / aero.nm"
   ]
  },
  {
   "cell_type": "code",
   "execution_count": 10,
   "id": "cc7941e9-2a0c-477c-9812-eddbee2dd43b",
   "metadata": {},
   "outputs": [
    {
     "data": {
      "text/plain": [
       "1474.581801065618"
      ]
     },
     "execution_count": 10,
     "metadata": {},
     "output_type": "execute_result"
    }
   ],
   "source": [
    "from feat.fuel import compute_fuel_alternate\n",
    "\n",
    "compute_fuel_alternate(ac_type, eng_type=None, mass=landing_mass)"
   ]
  },
  {
   "cell_type": "code",
   "execution_count": 4,
   "id": "45a2e4b8-a66b-4dab-ba5f-47bec8909b97",
   "metadata": {},
   "outputs": [
    {
     "data": {
      "text/plain": [
       "12285.0"
      ]
     },
     "execution_count": 4,
     "metadata": {},
     "output_type": "execute_result"
    }
   ],
   "source": [
    "passenger_luggage_mass = 100  # Kg\n",
    "avg_num_seats = 150  # A320\n",
    "avg_load_factor = 0.819  # in 2018\n",
    "m_payload = avg_load_factor * avg_num_seats * passenger_luggage_mass\n",
    "m_payload"
   ]
  },
  {
   "cell_type": "code",
   "execution_count": 8,
   "id": "572a6680-861b-41d0-a253-68f538f6fdd5",
   "metadata": {},
   "outputs": [
    {
     "name": "stdout",
     "output_type": "stream",
     "text": [
      "Warning: const mach crossover altitude higher than cruise altitude, altitude clipped.\n",
      "2476.8965578418165 123.84482789209083 3089.0017192744385 1355.4212271054494 7045.164332113795 67380.0 61930.164332113796\n",
      "2476.8965578418165 123.84482789209083 3368.3508415904034 1422.8681417899911 7391.960369114302 61930.164332113796 62276.9603691143\n",
      "2476.8965578418165 123.84482789209083 3050.3143979406373 1534.4279891388558 7185.483772813401 62276.9603691143 62070.4837728134\n",
      "2476.8965578418165 123.84482789209083 3339.1880011292174 1451.503445457007 7391.432832320132 62070.4837728134 62276.43283232013\n",
      "2476.8965578418165 123.84482789209083 3216.8777285531155 1572.1410678936606 7389.760182180684 62276.43283232013 62274.76018218068\n"
     ]
    }
   ],
   "source": [
    "from feat import FlightProfileGenerator\n",
    "from feat.fuel import compute_fuel_trip, compute_fuel_reserve, compute_fuel_alternate\n",
    "\n",
    "fpg = FlightProfileGenerator(ac_type=ac_type, eng_type=None)\n",
    "flight_profile = flight_profiles.query(\"id==0\")\n",
    "me = MassEstimator(ac_type=ac_type)\n",
    "oew, tow = me.oew, me.reference_mass\n",
    "\n",
    "while True:\n",
    "    f_trip = compute_fuel_trip(\n",
    "        ac_type, eng_type=None, mass=tow, flight_profile=flight_profile\n",
    "    )\n",
    "    f_cont = f_trip * 0.05\n",
    "    landing_mass = mass - f_trip\n",
    "    f_res = compute_fuel_reserve(fpg, mass=landing_mass)\n",
    "    f_alt = compute_fuel_alternate(fpg, mass=landing_mass)\n",
    "    m_fuel = f_trip + f_cont + f_res + f_alt\n",
    "    new_tow = oew + m_payload + m_fuel\n",
    "    print(f_trip, f_cont, f_res, f_alt, m_fuel, tow, new_tow)\n",
    "    if abs(tow - new_tow) < 10:\n",
    "        break\n",
    "    tow = new_tow"
   ]
  },
  {
   "cell_type": "code",
   "execution_count": null,
   "id": "ee66d70c-4d6c-44f6-8b53-3dd2730697c2",
   "metadata": {},
   "outputs": [],
   "source": []
  }
 ],
 "metadata": {
  "kernelspec": {
   "display_name": "Python 3",
   "language": "python",
   "name": "python3"
  },
  "language_info": {
   "codemirror_mode": {
    "name": "ipython",
    "version": 3
   },
   "file_extension": ".py",
   "mimetype": "text/x-python",
   "name": "python",
   "nbconvert_exporter": "python",
   "pygments_lexer": "ipython3",
   "version": "3.9.4"
  }
 },
 "nbformat": 4,
 "nbformat_minor": 5
}
